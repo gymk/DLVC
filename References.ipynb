{
 "cells": [
  {
   "cell_type": "markdown",
   "metadata": {},
   "source": [
    "# References"
   ]
  },
  {
   "cell_type": "markdown",
   "metadata": {},
   "source": [
    "## Markdown"
   ]
  },
  {
   "cell_type": "markdown",
   "metadata": {},
   "source": [
    "- https://www.calvin.edu/~rpruim/courses/s341/S17/from-class/MathinRmd.html\n",
    "  - Greek Letters\n",
    "  - Mathematical Notation\n",
    "- https://csrgxtu.github.io/2015/03/20/Writing-Mathematic-Fomulars-in-Markdown/\n",
    "  - Mathematical Formula symbols\n",
    "- https://people.ok.ubc.ca/jpither/modules/Symbols_markdown.html\n",
    "  - Greek symbols\n",
    "  - Math notation\n",
    "  - Statistics notation\n",
    "  - Miscellaneous symbols\n",
    "- https://en.wikipedia.org/wiki/List_of_logic_symbols\n",
    "  - Symbol meanings\n",
    "- https://www.math.uci.edu/~xiangwen/pdf/LaTeX-Math-Symbols.pdf\n",
    "  - Latex Math Symols"
   ]
  },
  {
   "cell_type": "code",
   "execution_count": null,
   "metadata": {},
   "outputs": [],
   "source": []
  }
 ],
 "metadata": {
  "kernelspec": {
   "display_name": "Python 3",
   "language": "python",
   "name": "python3"
  },
  "language_info": {
   "codemirror_mode": {
    "name": "ipython",
    "version": 3
   },
   "file_extension": ".py",
   "mimetype": "text/x-python",
   "name": "python",
   "nbconvert_exporter": "python",
   "pygments_lexer": "ipython3",
   "version": "3.8.3"
  }
 },
 "nbformat": 4,
 "nbformat_minor": 4
}
