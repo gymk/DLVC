{
 "cells": [
  {
   "cell_type": "markdown",
   "metadata": {},
   "source": [
    "# Quiz : Assignment 0"
   ]
  },
  {
   "cell_type": "markdown",
   "metadata": {},
   "source": [
    "1) Given $\\displaystyle{F(x, y) = 2 \\sin(2x) + y}$. Determine $\\displaystyle{\\frac{\\partial F}{\\partial x}}$ at $\\displaystyle{x = 30 ^{\\circ}}$\n",
    "\n",
    "- a. 2\n",
    "- b. 3\n",
    "- c. 1\n",
    "- d. 0"
   ]
  },
  {
   "cell_type": "markdown",
   "metadata": {},
   "source": [
    "__Answer:__"
   ]
  },
  {
   "cell_type": "markdown",
   "metadata": {},
   "source": [
    "****"
   ]
  },
  {
   "cell_type": "markdown",
   "metadata": {},
   "source": [
    "2) Given $\\displaystyle{y= e^{3x} + cos(5x) + ln(x)}$. Determine $\\displaystyle{\\frac{\\partial y}{\\partial x}}$\n",
    "- a. $\\displaystyle{3e^{3x}+5\\sin(5x)+\\frac{1}{x}}$\n",
    "- b. $\\displaystyle{3e^{3x}-5\\sin(5x)+\\frac{1}{x}}$\n",
    "- c. $\\displaystyle{e^{3x}-5\\sin(x)+\\frac{1}{x}}$\n",
    "- d. $\\displaystyle{e^{3x}+5\\sin(x)+\\frac{1}{x}}$"
   ]
  },
  {
   "cell_type": "markdown",
   "metadata": {},
   "source": [
    "__Answer:__"
   ]
  },
  {
   "cell_type": "markdown",
   "metadata": {},
   "source": [
    "****"
   ]
  },
  {
   "cell_type": "markdown",
   "metadata": {},
   "source": [
    "3) Given that $\\displaystyle{\\lim_{x \\to \\infty} \\Big (\\sqrt{x+{\\sqrt{x}}} - \\sqrt{x - {\\sqrt{x}} } \\Big )}$, determine $\\displaystyle{\\frac{\\partial y}{\\partial x}}$\n",
    "- a. 1\n",
    "- b. 0\n",
    "- c. $\\sqrt{x}$\n",
    "- d. Doesn't exist"
   ]
  },
  {
   "cell_type": "markdown",
   "metadata": {},
   "source": [
    "__Answer:__"
   ]
  },
  {
   "cell_type": "markdown",
   "metadata": {},
   "source": [
    "****"
   ]
  },
  {
   "cell_type": "markdown",
   "metadata": {},
   "source": [
    "4) Determine the condensed form of $\\displaystyle{f(x) = \\frac{1}{1+\\frac{1}{1+\\frac{1}{x}}}}$\n",
    "- a. $\\displaystyle{\\frac{x^2 + 1}{2x + 1}}$\n",
    "- b. $\\displaystyle{\\frac{x + 1}{2x + 1}}$\n",
    "- c. $\\displaystyle{\\frac{2x + 1}{x + 1}}$\n",
    "- d. $\\displaystyle{\\frac{2x + 1}{x^2 + 1}}$"
   ]
  },
  {
   "cell_type": "markdown",
   "metadata": {},
   "source": [
    "__Answer:__"
   ]
  },
  {
   "cell_type": "markdown",
   "metadata": {},
   "source": [
    "****"
   ]
  },
  {
   "cell_type": "markdown",
   "metadata": {},
   "source": [
    "5) Characteristic equation for the matrix $X$ is given as, $\\displaystyle{2t^2+t=1}$. Which of the following is true for $X$?\n",
    "- a. $X^{-1} = X$\n",
    "- b. $X^T = X^{-1}$\n",
    "- c. $X^{-1} = 2X + I$\n",
    "- d. $X = 2X^{-1} + 1$"
   ]
  },
  {
   "cell_type": "markdown",
   "metadata": {},
   "source": [
    "__Answer:__"
   ]
  },
  {
   "cell_type": "markdown",
   "metadata": {},
   "source": [
    "****"
   ]
  },
  {
   "cell_type": "markdown",
   "metadata": {},
   "source": [
    "6) How many solutions of $x, y, z$ exists for the gvein set of equations?\n",
    "$$2x - y + 3z = 1$$\n",
    "$$3x - 2y + 5z = 2$$\n",
    "$$-x + 4y + z = 3$$\n",
    "- a. 0\n",
    "- b. 1\n",
    "- c. 3\n",
    "- d. Infinite"
   ]
  },
  {
   "cell_type": "markdown",
   "metadata": {},
   "source": [
    "__Answer:__"
   ]
  },
  {
   "cell_type": "markdown",
   "metadata": {},
   "source": [
    "****"
   ]
  },
  {
   "cell_type": "markdown",
   "metadata": {},
   "source": [
    "7) Given that the Eigen values of the matrix $\\begin{bmatrix} x & y \\\\ 3 & 5\\end{bmatrix}$ are $2$ and $1$. Find the values of $x$ and $y$.\n",
    "- a. $x = 0, y = 1$\n",
    "- b. $x = 10, y = 12$\n",
    "- c. $x = -3, y = -6$\n",
    "- d. $x = -2, y = -4$"
   ]
  },
  {
   "cell_type": "markdown",
   "metadata": {},
   "source": [
    "__Answer:__"
   ]
  },
  {
   "cell_type": "markdown",
   "metadata": {},
   "source": [
    "****"
   ]
  },
  {
   "cell_type": "markdown",
   "metadata": {},
   "source": [
    "8) Given $X$ and $Y$ are non-zero square matrices, what does $XY = 0$ imply?\n",
    "- a. $X$ and $Y$ are orthogonal\n",
    "- b. $X$ and $Y$ are nil potent\n",
    "- c. $X$ or $Y$ has rank < 3\n",
    "- d. $Y = X^{-1}$"
   ]
  },
  {
   "cell_type": "markdown",
   "metadata": {},
   "source": [
    "__Answer:__"
   ]
  },
  {
   "cell_type": "markdown",
   "metadata": {},
   "source": [
    "****"
   ]
  },
  {
   "cell_type": "markdown",
   "metadata": {},
   "source": [
    "9) Let $X = \\begin{bmatrix} 1 & 1 & -1 \\\\ 0 & 0 & 1 \\\\ 0 & 1 & -1 \\end{bmatrix}$. Then ${\\vert XX^T+1 \\vert}^T =$?\n",
    "- a. 0.25\n",
    "- b. 6\n",
    "- c. $\\begin{bmatrix} 4 & 0 & 3 \\\\ 0 & 2 & 0 \\\\ 3 & 0 & 3 \\end{bmatrix}$\n",
    "- d. $\\begin{bmatrix} 3 & -1 & 2 \\\\ -1 & 1 & -1 \\\\ 2 & -1 & 2 \\end{bmatrix}$"
   ]
  },
  {
   "cell_type": "markdown",
   "metadata": {},
   "source": [
    "__Answer:__"
   ]
  },
  {
   "cell_type": "markdown",
   "metadata": {},
   "source": [
    "****"
   ]
  },
  {
   "cell_type": "markdown",
   "metadata": {},
   "source": [
    "10) Which operation can be used to map $\\begin{bmatrix} 1 & 9 & 3 \\\\ 6 & 3 & 4 \\\\ 2 & 9 & 8 \\end{bmatrix}$ t value 4?\n",
    "- a. Mean\n",
    "- b. Median\n",
    "- c. $\\alpha$-clipping\n",
    "- d. Histogram equalition"
   ]
  },
  {
   "cell_type": "markdown",
   "metadata": {},
   "source": [
    "__Answer:__"
   ]
  },
  {
   "cell_type": "markdown",
   "metadata": {},
   "source": [
    "****"
   ]
  },
  {
   "cell_type": "markdown",
   "metadata": {},
   "source": [
    "11) Find the bound of the functoin $\\displaystyle{f(x) = \\frac{1-e^{-x}}{1+e^{-x}}}$, when $x \\in [0, \\infty)$\n",
    "- a. $[0.5, \\infty)$\n",
    "- b. $(-\\infty, \\infty)$\n",
    "- c. $(-\\infty, 1)$\n",
    "- d. $[0, 1)$"
   ]
  },
  {
   "cell_type": "markdown",
   "metadata": {},
   "source": [
    "__Answer:__"
   ]
  },
  {
   "cell_type": "markdown",
   "metadata": {},
   "source": [
    "****"
   ]
  },
  {
   "cell_type": "markdown",
   "metadata": {},
   "source": [
    "12) Consider two independent variables $X$ and $Y$ with variance $\\sigma^{2}X$ and $\\sigma^{2}Y$ respectively. What is the variance of $X - Y$?\n",
    "- a. $\\sigma^{2}X + \\sigma^{2}Y$\n",
    "- b. $\\sigma^{2}X - \\sigma^{2}Y$\n",
    "- c. $\\displaystyle{ \\frac{{ \\left( \\sigma {X} - \\sigma Y \\right) }^2}{4} }$\n",
    "- d. $\\displaystyle{ \\frac {\\sigma^{2}X + \\sigma^{2}Y} {2} }$"
   ]
  },
  {
   "cell_type": "markdown",
   "metadata": {},
   "source": [
    "__Answer:__"
   ]
  },
  {
   "cell_type": "markdown",
   "metadata": {},
   "source": [
    "****"
   ]
  },
  {
   "cell_type": "markdown",
   "metadata": {},
   "source": [
    "13) What percentage of the data population is located within $\\mu \\pm {2 \\sigma}$ range when the data follows Gaussian distribution?\n",
    "- a. 75\n",
    "- b. 95\n",
    "- c. 66\n",
    "- d. 50"
   ]
  },
  {
   "cell_type": "markdown",
   "metadata": {},
   "source": [
    "__Answer:__"
   ]
  },
  {
   "cell_type": "markdown",
   "metadata": {},
   "source": [
    "****"
   ]
  },
  {
   "cell_type": "markdown",
   "metadata": {},
   "source": [
    "14) Given two discrete distributions $p(.)$ and $q(.)$, distance between them can be measured using $\\displaystyle{ d_1\\left( p \\parallel q\\right) = \\sum_{i} p_i \\log{ \\left( \\frac{p_i}{q_i} \\right)} }$ or $\\displaystyle{ d_2\\left( p \\parallel q \\right) = \\sum_i p_i \\log {\\left( \\frac{p_i}{M} \\right)} + \\sum_i q_i \\log \\left( \\frac{q_i}{M} \\right) }$, were $M$ is a constant. Whcih of the following about the symmetry of the distance measures is true?\n",
    "- a. Both $\\displaystyle{ d_1\\left( p \\parallel q\\right) }$ $\\displaystyle{ d_2\\left( p \\parallel q\\right) }$ are asymmetric\n",
    "- b. Both $\\displaystyle{ d_1\\left( p \\parallel q\\right) }$ and $\\displaystyle{ d_2\\left( p \\parallel q\\right) }$ are symmetric\n",
    "- c. $\\displaystyle{ d_1\\left( p \\parallel q\\right) }$ is symmetric and $\\displaystyle{ d_2\\left( p \\parallel q\\right) }$ is asymmetric\n",
    "- d. $\\displaystyle{ d_1\\left( p \\parallel q\\right) }$ is asymmetric and $\\displaystyle{ d_2\\left( p \\parallel q\\right) }$ is symmetric"
   ]
  },
  {
   "cell_type": "markdown",
   "metadata": {},
   "source": [
    "__Answer:__"
   ]
  },
  {
   "cell_type": "markdown",
   "metadata": {},
   "source": [
    "****"
   ]
  },
  {
   "cell_type": "markdown",
   "metadata": {},
   "source": [
    "15) Consider an array $A = {A_1, A_2, \\cdots, A_n}$, where $A_i \\in Z \\cap [0, y]$. If $y$ is an integer, how many such unique arrays can exist?\n",
    "- a. ${\\left( y + 1 \\right)}^n$\n",
    "- b. $\\displaystyle{ \\binom{n}{y+1}}$\n",
    "- c. $y^n$\n",
    "- d. $ny$"
   ]
  },
  {
   "cell_type": "markdown",
   "metadata": {},
   "source": [
    "__Answer:__"
   ]
  },
  {
   "cell_type": "markdown",
   "metadata": {},
   "source": [
    "****"
   ]
  },
  {
   "cell_type": "markdown",
   "metadata": {},
   "source": [
    "16) Given $\\displaystyle{ f(x) = \\frac{x^3-3x^2+3x-2} {2x^3+x^2-8x-4} }$, which is not differentiable at $x = 2$. What could be an exception value of $f(x = 2)$ such that $f(x)$ is continuos?\n",
    "- a. $0$\n",
    "- b. $\\frac{3}{13}$\n",
    "- c. $\\frac{3}{20}$\n",
    "- d. None of these"
   ]
  },
  {
   "cell_type": "markdown",
   "metadata": {},
   "source": [
    "__Answer:__"
   ]
  },
  {
   "cell_type": "markdown",
   "metadata": {},
   "source": [
    "****"
   ]
  },
  {
   "cell_type": "markdown",
   "metadata": {},
   "source": [
    "17) If $\\displaystyle{ y = \\frac{1}{1+e^{-x}} }$, what is $\\displaystyle{ \\frac{\\partial y}{\\partial x}}$\n",
    "- a. $\\displaystyle{ \\frac{\\partial y}{\\partial x} = 1 - y}$\n",
    "- b. $\\displaystyle{ \\frac{\\partial y}{\\partial x} = y(1-y)}$\n",
    "- c. $\\displaystyle{ \\frac{\\partial y}{\\partial x} = \\frac{1+y}{1-y}}$\n",
    "- d. $\\displaystyle{ \\frac{\\partial y}{\\partial x} = \\frac{1}{{(1-y)}^2}}$"
   ]
  },
  {
   "cell_type": "markdown",
   "metadata": {},
   "source": [
    "__Answer:__"
   ]
  },
  {
   "cell_type": "markdown",
   "metadata": {},
   "source": [
    "****"
   ]
  },
  {
   "cell_type": "markdown",
   "metadata": {},
   "source": [
    "18) Consider two 3-D tensors $X$ and $Y$ whose contents are\n",
    "$$X(:,:,0) = X(:,:,1) = X(:,:,2) = \\begin{bmatrix} 1 & 3 & 1 \\\\ 6 & 4 & 0 \\\\ 5 & 2 & 5 \\end{bmatrix}$$\n",
    "$$Y(:,:,0) = Y(:,:,1) = Y(:,:,2) = \\begin{bmatrix} 1 & 1 & 1 \\\\ 0 & 0 & 1 \\\\ 1 & 0 & 0 \\end{bmatrix}$$\n",
    "If the convolution operation is given as $Z = X * Y$, find $Z(:,:,1)$\n",
    "- a. $[18]$\n",
    "- b. $\\begin{bmatrix} 1 & 3 & 1 \\\\ 6 & 4 & 0 \\\\ 5 & 2 & 5 \\end{bmatrix}$\n",
    "- c. $[10]$\n",
    "- d. $\\begin{bmatrix} 2 & 4 & 2 \\\\ 6 & 4 & 1 \\\\ 6 & 2 & 5 \\end{bmatrix}$"
   ]
  },
  {
   "cell_type": "markdown",
   "metadata": {},
   "source": [
    "__Answer:__"
   ]
  },
  {
   "cell_type": "markdown",
   "metadata": {},
   "source": [
    "****"
   ]
  },
  {
   "cell_type": "markdown",
   "metadata": {},
   "source": [
    "19) Which of the following filter kernels can be used for gradient computtion?\n",
    "- a. $\\begin{bmatrix} 1 & 2 & 1 \\\\ 0 & 0 & 0 \\\\ -1 & -2 & -1 \\end{bmatrix}$\n",
    "- b. $\\begin{bmatrix} 1 & 0 & 0 \\\\ 0 & 1 & 0 \\\\  0 & 0 & 1 \\end{bmatrix}$\n",
    "- c.$\\begin{bmatrix} 1 & 1 & 1 \\\\ 2 & 2 &2 \\\\ 3 & 3 & 3\\end{bmatrix}$\n",
    "- d. $\\begin{bmatrix} 1 & 1 & 1 \\\\ 1 & -8 & 1 \\\\ 1 & 1 & 1 \\end{bmatrix}$"
   ]
  },
  {
   "cell_type": "markdown",
   "metadata": {},
   "source": [
    "__Answer:__"
   ]
  },
  {
   "cell_type": "markdown",
   "metadata": {},
   "source": [
    "****"
   ]
  },
  {
   "cell_type": "markdown",
   "metadata": {},
   "source": [
    "20) Which of the following graphs depict the function $\\displaystyle{ f(x) = \\frac{1}{1+e^{-x}} }$ for $\\displaystyle{ x \\in [-\\infty, \\infty] }$.\n",
    "- ![Option a](images/w0a0q20.1.png)\n",
    "- ![Option b](images/w0a0q20.2.png)\n",
    "- ![Option c](images/w0a0q20.3.png)\n",
    "- ![Option d](images/w0a0q20.4.png)"
   ]
  },
  {
   "cell_type": "markdown",
   "metadata": {},
   "source": [
    "__Answer:__"
   ]
  },
  {
   "cell_type": "markdown",
   "metadata": {},
   "source": [
    "****"
   ]
  },
  {
   "cell_type": "code",
   "execution_count": null,
   "metadata": {},
   "outputs": [],
   "source": []
  }
 ],
 "metadata": {
  "kernelspec": {
   "display_name": "Python 3",
   "language": "python",
   "name": "python3"
  },
  "language_info": {
   "codemirror_mode": {
    "name": "ipython",
    "version": 3
   },
   "file_extension": ".py",
   "mimetype": "text/x-python",
   "name": "python",
   "nbconvert_exporter": "python",
   "pygments_lexer": "ipython3",
   "version": "3.8.3"
  }
 },
 "nbformat": 4,
 "nbformat_minor": 4
}
